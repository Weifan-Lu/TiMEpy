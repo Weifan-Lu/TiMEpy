{
  "nbformat": 4,
  "nbformat_minor": 0,
  "metadata": {
    "colab": {
      "provenance": [],
      "authorship_tag": "ABX9TyNNGYVTfRgs+8WgBS6ul8I6",
      "include_colab_link": true
    },
    "kernelspec": {
      "name": "python3",
      "display_name": "Python 3"
    },
    "language_info": {
      "name": "python"
    }
  },
  "cells": [
    {
      "cell_type": "markdown",
      "metadata": {
        "id": "view-in-github",
        "colab_type": "text"
      },
      "source": [
        "<a href=\"https://colab.research.google.com/github/Weifan-Lu/TiMEpy/blob/main/Simple_tutorial.ipynb\" target=\"_parent\"><img src=\"https://colab.research.google.com/assets/colab-badge.svg\" alt=\"Open In Colab\"/></a>"
      ]
    },
    {
      "cell_type": "markdown",
      "source": [
        "# TiMEpy: A Python Package for Analyzing **Ti**dal **M**odulation of Fast and Slow **E**arthquakes"
      ],
      "metadata": {
        "id": "Z_yiDq2pA-0N"
      }
    },
    {
      "cell_type": "markdown",
      "source": [
        "This guide provides the steps to quickly install and run TiMEpy, a Python-based project for processing and analyzing tidal phase data."
      ],
      "metadata": {
        "id": "brM0Vna2BVXh"
      }
    },
    {
      "cell_type": "markdown",
      "source": [
        "\n",
        "\n",
        "---\n",
        "\n",
        "\n",
        "1. Environment Setup\n",
        "*   Python Version: Ensure you have Python 3.6 or higher installed.\n",
        "*   Package Manager: Use pip or conda to manage dependencies.\n",
        "\n",
        "\n"
      ],
      "metadata": {
        "id": "x-EibKbzBpep"
      }
    },
    {
      "cell_type": "markdown",
      "source": [
        "\n",
        "\n",
        "---\n",
        "\n",
        "\n",
        "2. Clone the Repository\n",
        "\n",
        "    Clone the TiMEpy repository from GitHub (or your preferred repository host) using the following commands:"
      ],
      "metadata": {
        "id": "L_8XucKzCCSW"
      }
    },
    {
      "cell_type": "code",
      "source": [
        "!git clone https://github.com/Weifan-Lu/TiMEpy"
      ],
      "metadata": {
        "id": "QlKIRtZTGIly"
      },
      "execution_count": null,
      "outputs": []
    },
    {
      "cell_type": "markdown",
      "source": [
        "\n",
        "\n",
        "---\n",
        "\n",
        "\n",
        "3. Install Dependencies\n",
        "\n",
        "Install all required Python packages. In the project root directory, run:"
      ],
      "metadata": {
        "id": "kDQVX0m9FaRf"
      }
    },
    {
      "cell_type": "code",
      "source": [
        "!pip install cartopy numpy matplotlib scipy"
      ],
      "metadata": {
        "colab": {
          "base_uri": "https://localhost:8080/"
        },
        "collapsed": true,
        "id": "zgl3acEfDFvF",
        "outputId": "0cf50d6b-d2ce-4e84-8ba0-47c0f223721d"
      },
      "execution_count": 1,
      "outputs": [
        {
          "output_type": "stream",
          "name": "stdout",
          "text": [
            "Requirement already satisfied: cartopy in /usr/local/lib/python3.11/dist-packages (0.24.1)\n",
            "Requirement already satisfied: numpy in /usr/local/lib/python3.11/dist-packages (1.26.4)\n",
            "Requirement already satisfied: matplotlib in /usr/local/lib/python3.11/dist-packages (3.10.0)\n",
            "Requirement already satisfied: scipy in /usr/local/lib/python3.11/dist-packages (1.13.1)\n",
            "Requirement already satisfied: shapely>=1.8 in /usr/local/lib/python3.11/dist-packages (from cartopy) (2.0.7)\n",
            "Requirement already satisfied: packaging>=21 in /usr/local/lib/python3.11/dist-packages (from cartopy) (24.2)\n",
            "Requirement already satisfied: pyshp>=2.3 in /usr/local/lib/python3.11/dist-packages (from cartopy) (2.3.1)\n",
            "Requirement already satisfied: pyproj>=3.3.1 in /usr/local/lib/python3.11/dist-packages (from cartopy) (3.7.1)\n",
            "Requirement already satisfied: contourpy>=1.0.1 in /usr/local/lib/python3.11/dist-packages (from matplotlib) (1.3.1)\n",
            "Requirement already satisfied: cycler>=0.10 in /usr/local/lib/python3.11/dist-packages (from matplotlib) (0.12.1)\n",
            "Requirement already satisfied: fonttools>=4.22.0 in /usr/local/lib/python3.11/dist-packages (from matplotlib) (4.56.0)\n",
            "Requirement already satisfied: kiwisolver>=1.3.1 in /usr/local/lib/python3.11/dist-packages (from matplotlib) (1.4.8)\n",
            "Requirement already satisfied: pillow>=8 in /usr/local/lib/python3.11/dist-packages (from matplotlib) (11.1.0)\n",
            "Requirement already satisfied: pyparsing>=2.3.1 in /usr/local/lib/python3.11/dist-packages (from matplotlib) (3.2.1)\n",
            "Requirement already satisfied: python-dateutil>=2.7 in /usr/local/lib/python3.11/dist-packages (from matplotlib) (2.8.2)\n",
            "Requirement already satisfied: certifi in /usr/local/lib/python3.11/dist-packages (from pyproj>=3.3.1->cartopy) (2025.1.31)\n",
            "Requirement already satisfied: six>=1.5 in /usr/local/lib/python3.11/dist-packages (from python-dateutil>=2.7->matplotlib) (1.17.0)\n"
          ]
        }
      ]
    },
    {
      "cell_type": "code",
      "source": [
        "!ls"
      ],
      "metadata": {
        "id": "TAyEfmtwXxF8",
        "colab": {
          "base_uri": "https://localhost:8080/"
        },
        "outputId": "b825ca77-b830-4175-ac28-4e8eff23924c"
      },
      "execution_count": 5,
      "outputs": [
        {
          "output_type": "stream",
          "name": "stdout",
          "text": [
            "sample_data  TiMEpy\n"
          ]
        }
      ]
    },
    {
      "cell_type": "code",
      "source": [
        "%cd TiMEpy/"
      ],
      "metadata": {
        "colab": {
          "base_uri": "https://localhost:8080/"
        },
        "id": "NYWcXFkiEw8a",
        "outputId": "4c5829b3-d11f-43ea-e0b3-def2d80957fd"
      },
      "execution_count": 6,
      "outputs": [
        {
          "output_type": "stream",
          "name": "stdout",
          "text": [
            "/content/TiMEpy\n"
          ]
        }
      ]
    },
    {
      "cell_type": "code",
      "source": [
        "%cd ex_ridgecrest"
      ],
      "metadata": {
        "colab": {
          "base_uri": "https://localhost:8080/"
        },
        "id": "I6cv0v7gYA4S",
        "outputId": "241118ce-0709-4156-f290-b82c41b6741a"
      },
      "execution_count": 9,
      "outputs": [
        {
          "output_type": "stream",
          "name": "stdout",
          "text": [
            "/content/TiMEpy/ex_ridgecrest\n"
          ]
        }
      ]
    },
    {
      "cell_type": "markdown",
      "source": [
        "5. Run TiMEpy\n",
        "\n",
        "\n",
        "    (1)  Creating Output Folder\n",
        "\n"
      ],
      "metadata": {
        "id": "1cvPBYmDGVy7"
      }
    },
    {
      "cell_type": "code",
      "source": [
        "!python ex_pre0_create_output.py"
      ],
      "metadata": {
        "colab": {
          "base_uri": "https://localhost:8080/"
        },
        "id": "0LKBPsaEE9FD",
        "outputId": "67ec8c2f-0e9d-4e0f-90cd-a2df4d493a09"
      },
      "execution_count": 11,
      "outputs": [
        {
          "output_type": "stream",
          "name": "stdout",
          "text": [
            "src_path = /content/TiMEpy/config\n",
            "====== Processing | Creating Output Folder: Start ======\n",
            "Created folder: ../ex_ridgecrest/output\n",
            "Created folder: ../ex_ridgecrest/output/catalog\n",
            "Created folder: ../ex_ridgecrest/output/tidal_phase\n",
            "Created folder: ../ex_ridgecrest/output/stress\n",
            "Created folder: ../ex_ridgecrest/output/figure\n",
            "====== Processing | Creating output folder: End ======\n"
          ]
        }
      ]
    },
    {
      "cell_type": "markdown",
      "source": [
        "    (2)  Select catalog\n"
      ],
      "metadata": {
        "id": "Mv-m4CTpGwTW"
      }
    },
    {
      "cell_type": "code",
      "source": [
        "!python ex_pre1_select_catalog.py"
      ],
      "metadata": {
        "colab": {
          "base_uri": "https://localhost:8080/"
        },
        "id": "jCbCaa7gFFai",
        "outputId": "c48b90d9-c118-4ae0-a8e9-aaef6cc32cd7"
      },
      "execution_count": 12,
      "outputs": [
        {
          "output_type": "stream",
          "name": "stdout",
          "text": [
            "src_path = /content/TiMEpy/config\n",
            "====== Processing | Select catalog: Start ======\n",
            "Selected catalog have been written to ../ex_ridgecrest/output/catalog/RC_select_catalog.txt\n",
            "The selected catalog has been successfully plotted and saved to ../ex_ridgecrest/output/catalog/RC_select_catalog.png\n",
            "====== Processing | Select catalog: End ======\n"
          ]
        }
      ]
    },
    {
      "cell_type": "code",
      "source": [
        "!python ex_pre2_decluster_NNA.py"
      ],
      "metadata": {
        "colab": {
          "base_uri": "https://localhost:8080/"
        },
        "id": "q7PDVO6RFQLv",
        "outputId": "5f41cba8-7260-4003-952e-055a8c8fa431"
      },
      "execution_count": 13,
      "outputs": [
        {
          "output_type": "stream",
          "name": "stdout",
          "text": [
            "src_path = /content/TiMEpy/config\n",
            "====== Processing | Decluster catalog: Start ======\n",
            "Declustered catalog have been written to ../ex_ridgecrest/output/catalog/RC_select_catalog_decluster.txt\n",
            "====== Processing | Decluster catalog: plot figures ======\n",
            "The declustered catalog has been successfully plotted and saved to ../ex_ridgecrest/output/catalog/RC_decluster_catalog_cum.png\n",
            "The declustered catalog has been successfully plotted and saved to ../ex_ridgecrest/output/catalog/RC_decluster_catalog_lat.png\n",
            "The declustered catalog has been successfully plotted and saved to ../ex_ridgecrest/output/catalog/RC_decluster_catalog_nna.png\n",
            "====== Processing | Decluster catalog: End ======\n"
          ]
        }
      ]
    }
  ]
}