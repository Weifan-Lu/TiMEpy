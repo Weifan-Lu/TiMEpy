{
  "nbformat": 4,
  "nbformat_minor": 0,
  "metadata": {
    "colab": {
      "provenance": [],
      "authorship_tag": "ABX9TyOgpO/qMLBIOaEotFZNlZdl",
      "include_colab_link": true
    },
    "kernelspec": {
      "name": "python3",
      "display_name": "Python 3"
    },
    "language_info": {
      "name": "python"
    }
  },
  "cells": [
    {
      "cell_type": "markdown",
      "metadata": {
        "id": "view-in-github",
        "colab_type": "text"
      },
      "source": [
        "<a href=\"https://colab.research.google.com/github/Weifan-Lu/TiMEpy/blob/main/Simple_tutorial.ipynb\" target=\"_parent\"><img src=\"https://colab.research.google.com/assets/colab-badge.svg\" alt=\"Open In Colab\"/></a>"
      ]
    },
    {
      "cell_type": "markdown",
      "source": [
        "# TiMEpy: A Python Package for Analyzing **Ti**dal **M**odulation of Fast and Slow **E**arthquakes"
      ],
      "metadata": {
        "id": "Z_yiDq2pA-0N"
      }
    },
    {
      "cell_type": "markdown",
      "source": [
        "This guide provides the steps to quickly install and run TiMEpy, a Python-based project for processing and analyzing tidal phase data."
      ],
      "metadata": {
        "id": "brM0Vna2BVXh"
      }
    },
    {
      "cell_type": "markdown",
      "source": [
        "\n",
        "\n",
        "---\n",
        "\n",
        "\n",
        "1. Environment Setup\n",
        "*   Python Version: Ensure you have Python 3.6 or higher installed.\n",
        "*   Package Manager: Use pip or conda to manage dependencies.\n",
        "\n",
        "\n"
      ],
      "metadata": {
        "id": "x-EibKbzBpep"
      }
    },
    {
      "cell_type": "markdown",
      "source": [
        "\n",
        "\n",
        "---\n",
        "\n",
        "\n",
        "2. Clone the Repository\n",
        "\n",
        "    Clone the TiMEpy repository from GitHub (or your preferred repository host) using the following commands:"
      ],
      "metadata": {
        "id": "L_8XucKzCCSW"
      }
    },
    {
      "cell_type": "code",
      "source": [
        "!git clone https://github.com/Weifan-Lu/TiMEpy"
      ],
      "metadata": {
        "colab": {
          "base_uri": "https://localhost:8080/"
        },
        "id": "QlKIRtZTGIly",
        "outputId": "0be2cd03-331a-40a8-c29c-53a9134f640f"
      },
      "execution_count": 18,
      "outputs": [
        {
          "output_type": "stream",
          "name": "stdout",
          "text": [
            "Cloning into 'TiMEpy'...\n",
            "remote: Enumerating objects: 176, done.\u001b[K\n",
            "remote: Counting objects: 100% (176/176), done.\u001b[K\n",
            "remote: Compressing objects: 100% (127/127), done.\u001b[K\n",
            "remote: Total 176 (delta 82), reused 112 (delta 41), pack-reused 0 (from 0)\u001b[K\n",
            "Receiving objects: 100% (176/176), 23.72 MiB | 14.67 MiB/s, done.\n",
            "Resolving deltas: 100% (82/82), done.\n"
          ]
        }
      ]
    },
    {
      "cell_type": "markdown",
      "source": [
        "\n",
        "\n",
        "---\n",
        "\n",
        "\n",
        "3. Install Dependencies\n",
        "\n",
        "Install all required Python packages. In the project root directory, run:"
      ],
      "metadata": {
        "id": "kDQVX0m9FaRf"
      }
    },
    {
      "cell_type": "code",
      "source": [
        "!pip install cartopy numpy matplotlib scipy"
      ],
      "metadata": {
        "colab": {
          "base_uri": "https://localhost:8080/"
        },
        "collapsed": true,
        "id": "zgl3acEfDFvF",
        "outputId": "ff9f0787-6181-4df9-9f53-0eaddc24ea9c"
      },
      "execution_count": 19,
      "outputs": [
        {
          "output_type": "stream",
          "name": "stdout",
          "text": [
            "Requirement already satisfied: cartopy in /usr/local/lib/python3.11/dist-packages (0.24.1)\n",
            "Requirement already satisfied: numpy in /usr/local/lib/python3.11/dist-packages (1.26.4)\n",
            "Requirement already satisfied: matplotlib in /usr/local/lib/python3.11/dist-packages (3.10.0)\n",
            "Requirement already satisfied: scipy in /usr/local/lib/python3.11/dist-packages (1.13.1)\n",
            "Requirement already satisfied: shapely>=1.8 in /usr/local/lib/python3.11/dist-packages (from cartopy) (2.0.7)\n",
            "Requirement already satisfied: packaging>=21 in /usr/local/lib/python3.11/dist-packages (from cartopy) (24.2)\n",
            "Requirement already satisfied: pyshp>=2.3 in /usr/local/lib/python3.11/dist-packages (from cartopy) (2.3.1)\n",
            "Requirement already satisfied: pyproj>=3.3.1 in /usr/local/lib/python3.11/dist-packages (from cartopy) (3.7.1)\n",
            "Requirement already satisfied: contourpy>=1.0.1 in /usr/local/lib/python3.11/dist-packages (from matplotlib) (1.3.1)\n",
            "Requirement already satisfied: cycler>=0.10 in /usr/local/lib/python3.11/dist-packages (from matplotlib) (0.12.1)\n",
            "Requirement already satisfied: fonttools>=4.22.0 in /usr/local/lib/python3.11/dist-packages (from matplotlib) (4.56.0)\n",
            "Requirement already satisfied: kiwisolver>=1.3.1 in /usr/local/lib/python3.11/dist-packages (from matplotlib) (1.4.8)\n",
            "Requirement already satisfied: pillow>=8 in /usr/local/lib/python3.11/dist-packages (from matplotlib) (11.1.0)\n",
            "Requirement already satisfied: pyparsing>=2.3.1 in /usr/local/lib/python3.11/dist-packages (from matplotlib) (3.2.1)\n",
            "Requirement already satisfied: python-dateutil>=2.7 in /usr/local/lib/python3.11/dist-packages (from matplotlib) (2.8.2)\n",
            "Requirement already satisfied: certifi in /usr/local/lib/python3.11/dist-packages (from pyproj>=3.3.1->cartopy) (2025.1.31)\n",
            "Requirement already satisfied: six>=1.5 in /usr/local/lib/python3.11/dist-packages (from python-dateutil>=2.7->matplotlib) (1.17.0)\n"
          ]
        }
      ]
    },
    {
      "cell_type": "markdown",
      "source": [
        "4. Configure the Project\n",
        "\n",
        "    Before running the scripts, adjust the configuration settings in the configuration file (e.g., input_params_rc.py). Update parameters such as:\n",
        "\n",
        "*   Data file paths\n",
        "*   Output directories\n",
        "*   Time ranges\n",
        "*   Ensure that all paths and parameters reflect your local setup.\n"
      ],
      "metadata": {
        "id": "JI6SnnxjHlW_"
      }
    },
    {
      "cell_type": "markdown",
      "source": [
        "5. Run TiMEpy\n",
        "\n",
        "\n",
        "    (0)  Creating Output Folder\n",
        "\n"
      ],
      "metadata": {
        "id": "1cvPBYmDGVy7"
      }
    },
    {
      "cell_type": "code",
      "source": [
        "%cd TiMEpy/ex_ridgecrest"
      ],
      "metadata": {
        "colab": {
          "base_uri": "https://localhost:8080/"
        },
        "id": "wg__ZKiGH-dE",
        "outputId": "bed47d7d-8870-4302-fd63-dddffb6c8804"
      },
      "execution_count": 20,
      "outputs": [
        {
          "output_type": "stream",
          "name": "stdout",
          "text": [
            "/content/TiMEpy/ex_ridgecrest/TiMEpy/TiMEpy/ex_ridgecrest\n"
          ]
        }
      ]
    },
    {
      "cell_type": "code",
      "source": [
        "!python ex_pre0_create_output.py"
      ],
      "metadata": {
        "colab": {
          "base_uri": "https://localhost:8080/"
        },
        "id": "0LKBPsaEE9FD",
        "outputId": "e4374a8f-40b1-4f73-a8d0-bedf7c27ef29"
      },
      "execution_count": 21,
      "outputs": [
        {
          "output_type": "stream",
          "name": "stdout",
          "text": [
            "src_path = /content/TiMEpy/ex_ridgecrest/TiMEpy/TiMEpy/config\n",
            "====== Processing | Creating Output Folder: Start ======\n",
            "Created folder: ../ex_ridgecrest/output\n",
            "Created folder: ../ex_ridgecrest/output/catalog\n",
            "Created folder: ../ex_ridgecrest/output/tidal_phase\n",
            "Created folder: ../ex_ridgecrest/output/stress\n",
            "Created folder: ../ex_ridgecrest/output/figure\n",
            "====== Processing | Creating output folder: End ======\n"
          ]
        }
      ]
    },
    {
      "cell_type": "markdown",
      "source": [
        "    (1)  Select catalog\n"
      ],
      "metadata": {
        "id": "Mv-m4CTpGwTW"
      }
    },
    {
      "cell_type": "code",
      "source": [
        "!python ex_pre1_select_catalog.py"
      ],
      "metadata": {
        "colab": {
          "base_uri": "https://localhost:8080/"
        },
        "id": "jCbCaa7gFFai",
        "outputId": "5b75fc21-52af-4187-a1dc-45c296fd70ae"
      },
      "execution_count": 22,
      "outputs": [
        {
          "output_type": "stream",
          "name": "stdout",
          "text": [
            "src_path = /content/TiMEpy/ex_ridgecrest/TiMEpy/TiMEpy/config\n",
            "====== Processing | Select catalog: Start ======\n",
            "Selected catalog have been written to ../ex_ridgecrest/output/catalog/RC_select_catalog.txt\n",
            "The selected catalog has been successfully plotted and saved to ../ex_ridgecrest/output/catalog/RC_select_catalog.png\n",
            "====== Processing | Select catalog: End ======\n"
          ]
        }
      ]
    },
    {
      "cell_type": "markdown",
      "source": [
        "    (2) Declustering (Using Nearest-Neighbor Algorithm )"
      ],
      "metadata": {
        "id": "pAAXudVsIiCQ"
      }
    },
    {
      "cell_type": "code",
      "source": [
        "!python ex_pre2_decluster_NNA.py"
      ],
      "metadata": {
        "colab": {
          "base_uri": "https://localhost:8080/"
        },
        "id": "q7PDVO6RFQLv",
        "outputId": "5307c703-4c52-4729-d790-3634fe918c60"
      },
      "execution_count": 23,
      "outputs": [
        {
          "output_type": "stream",
          "name": "stdout",
          "text": [
            "src_path = /content/TiMEpy/ex_ridgecrest/TiMEpy/TiMEpy/config\n",
            "====== Processing | Decluster catalog: Start ======\n",
            "Declustered catalog have been written to ../ex_ridgecrest/output/catalog/RC_select_catalog_decluster.txt\n",
            "====== Processing | Decluster catalog: plot figures ======\n",
            "The declustered catalog has been successfully plotted and saved to ../ex_ridgecrest/output/catalog/RC_decluster_catalog_cum.png\n",
            "The declustered catalog has been successfully plotted and saved to ../ex_ridgecrest/output/catalog/RC_decluster_catalog_lat.png\n",
            "The declustered catalog has been successfully plotted and saved to ../ex_ridgecrest/output/catalog/RC_decluster_catalog_nna.png\n",
            "====== Processing | Decluster catalog: End ======\n"
          ]
        }
      ]
    },
    {
      "cell_type": "markdown",
      "source": [
        "    (3) Strain to Stress"
      ],
      "metadata": {
        "id": "QCqE4FT3JJf3"
      }
    },
    {
      "cell_type": "code",
      "source": [
        "!python ex_pre3_strain_to_stress.py"
      ],
      "metadata": {
        "colab": {
          "base_uri": "https://localhost:8080/"
        },
        "id": "wtyO2P3KJmYF",
        "outputId": "ccb47c8e-32f1-4166-d2c8-51c1fa3d112a"
      },
      "execution_count": 24,
      "outputs": [
        {
          "output_type": "stream",
          "name": "stdout",
          "text": [
            "src_path = /content/TiMEpy/ex_ridgecrest/TiMEpy/TiMEpy/config\n",
            "====== Processing | Strin to Stress: Start ======\n",
            "rr = 6359.0, i = 11\n",
            "34.2 26.6 12.000 5.80 3.20 2.60\n",
            "Stress results have been written to ../ex_ridgecrest/output/stress/RC_stress_Vol_N_S.txt\n",
            "====== Processing | Strin to Stress: End ======\n"
          ]
        }
      ]
    },
    {
      "cell_type": "markdown",
      "source": [
        "    (4)  Earthquakes are associated with tidal stresses"
      ],
      "metadata": {
        "id": "1lkV5kFrKBAe"
      }
    },
    {
      "cell_type": "code",
      "source": [
        "!python ex_ana1_calc_tidal_phase.py"
      ],
      "metadata": {
        "colab": {
          "base_uri": "https://localhost:8080/"
        },
        "id": "BrCpu0FHKbVT",
        "outputId": "41868886-10d8-4408-deb8-c4417d869b7f"
      },
      "execution_count": null,
      "outputs": [
        {
          "output_type": "stream",
          "name": "stdout",
          "text": [
            "src_path = /content/TiMEpy/ex_ridgecrest/TiMEpy/TiMEpy/config\n",
            "====== Analysis | Earthquakes are associated with tidal stresses: Start ======\n",
            "Start calculating the phase of the tide (Obs)\n",
            "start time: 2010-01-01 00:00:00   end time:  2019-07-03 00:00:00  len_stress:  927361 len_time:  927361\n",
            "Plot stress v.s. eqs\n",
            "findfont: Font family 'Arial' not found.\n",
            "findfont: Font family 'Arial' not found.\n",
            "findfont: Font family 'Arial' not found.\n",
            "findfont: Font family 'Arial' not found.\n",
            "findfont: Font family 'Arial' not found.\n",
            "findfont: Font family 'Arial' not found.\n",
            "findfont: Font family 'Arial' not found.\n",
            "findfont: Font family 'Arial' not found.\n",
            "findfont: Font family 'Arial' not found.\n",
            "findfont: Font family 'Arial' not found.\n",
            "findfont: Font family 'Arial' not found.\n",
            "findfont: Font family 'Arial' not found.\n",
            "findfont: Font family 'Arial' not found.\n",
            "findfont: Font family 'Arial' not found.\n",
            "findfont: Font family 'Arial' not found.\n",
            "findfont: Font family 'Arial' not found.\n",
            "findfont: Font family 'Arial' not found.\n",
            "findfont: Font family 'Arial' not found.\n",
            "findfont: Font family 'Arial' not found.\n",
            "findfont: Font family 'Arial' not found.\n",
            "findfont: Font family 'Arial' not found.\n",
            "findfont: Font family 'Arial' not found.\n",
            "findfont: Font family 'Arial' not found.\n",
            "findfont: Font family 'Arial' not found.\n",
            "findfont: Font family 'Arial' not found.\n",
            "findfont: Font family 'Arial' not found.\n",
            "findfont: Font family 'Arial' not found.\n",
            "findfont: Font family 'Arial' not found.\n",
            "findfont: Font family 'Arial' not found.\n",
            "findfont: Font family 'Arial' not found.\n",
            "findfont: Font family 'Arial' not found.\n",
            "findfont: Font family 'Arial' not found.\n",
            "findfont: Font family 'Arial' not found.\n",
            "findfont: Font family 'Arial' not found.\n",
            "findfont: Font family 'Arial' not found.\n",
            "findfont: Font family 'Arial' not found.\n",
            "findfont: Font family 'Arial' not found.\n",
            "findfont: Font family 'Arial' not found.\n",
            "findfont: Font family 'Arial' not found.\n",
            "findfont: Font family 'Arial' not found.\n",
            "findfont: Font family 'Arial' not found.\n",
            "findfont: Font family 'Arial' not found.\n",
            "findfont: Font family 'Arial' not found.\n",
            "findfont: Font family 'Arial' not found.\n",
            "findfont: Font family 'Arial' not found.\n",
            "findfont: Font family 'Arial' not found.\n",
            "findfont: Font family 'Arial' not found.\n",
            "findfont: Font family 'Arial' not found.\n",
            "findfont: Font family 'Arial' not found.\n",
            "findfont: Font family 'Arial' not found.\n",
            "findfont: Font family 'Arial' not found.\n",
            "findfont: Font family 'Arial' not found.\n",
            "findfont: Font family 'Arial' not found.\n",
            "findfont: Font family 'Arial' not found.\n",
            "findfont: Font family 'Arial' not found.\n",
            "findfont: Font family 'Arial' not found.\n",
            "findfont: Font family 'Arial' not found.\n",
            "findfont: Font family 'Arial' not found.\n",
            "findfont: Font family 'Arial' not found.\n",
            "findfont: Font family 'Arial' not found.\n",
            "findfont: Font family 'Arial' not found.\n",
            "findfont: Font family 'Arial' not found.\n",
            "findfont: Font family 'Arial' not found.\n",
            "findfont: Font family 'Arial' not found.\n",
            "findfont: Font family 'Arial' not found.\n",
            "findfont: Font family 'Arial' not found.\n",
            "findfont: Font family 'Arial' not found.\n",
            "findfont: Font family 'Arial' not found.\n",
            "findfont: Font family 'Arial' not found.\n",
            "findfont: Font family 'Arial' not found.\n",
            "findfont: Font family 'Arial' not found.\n",
            "findfont: Font family 'Arial' not found.\n",
            "findfont: Font family 'Arial' not found.\n",
            "findfont: Font family 'Arial' not found.\n",
            "findfont: Font family 'Arial' not found.\n",
            "findfont: Font family 'Arial' not found.\n",
            "findfont: Font family 'Arial' not found.\n",
            "findfont: Font family 'Arial' not found.\n",
            "findfont: Font family 'Arial' not found.\n",
            "findfont: Font family 'Arial' not found.\n",
            "findfont: Font family 'Arial' not found.\n",
            "findfont: Font family 'Arial' not found.\n",
            "findfont: Font family 'Arial' not found.\n",
            "findfont: Font family 'Arial' not found.\n",
            "findfont: Font family 'Arial' not found.\n",
            "findfont: Font family 'Arial' not found.\n",
            "findfont: Font family 'Arial' not found.\n",
            "findfont: Font family 'Arial' not found.\n",
            "findfont: Font family 'Arial' not found.\n",
            "findfont: Font family 'Arial' not found.\n",
            "findfont: Font family 'Arial' not found.\n",
            "findfont: Font family 'Arial' not found.\n",
            "findfont: Font family 'Arial' not found.\n",
            "findfont: Font family 'Arial' not found.\n",
            "findfont: Font family 'Arial' not found.\n",
            "findfont: Font family 'Arial' not found.\n",
            "findfont: Font family 'Arial' not found.\n",
            "findfont: Font family 'Arial' not found.\n",
            "findfont: Font family 'Arial' not found.\n",
            "findfont: Font family 'Arial' not found.\n",
            "findfont: Font family 'Arial' not found.\n",
            "findfont: Font family 'Arial' not found.\n",
            "findfont: Font family 'Arial' not found.\n",
            "findfont: Font family 'Arial' not found.\n",
            "findfont: Font family 'Arial' not found.\n",
            "findfont: Font family 'Arial' not found.\n",
            "findfont: Font family 'Arial' not found.\n",
            "findfont: Font family 'Arial' not found.\n",
            "findfont: Font family 'Arial' not found.\n",
            "findfont: Font family 'Arial' not found.\n",
            "findfont: Font family 'Arial' not found.\n",
            "findfont: Font family 'Arial' not found.\n",
            "findfont: Font family 'Arial' not found.\n",
            "findfont: Font family 'Arial' not found.\n",
            "findfont: Font family 'Arial' not found.\n",
            "findfont: Font family 'Arial' not found.\n",
            "findfont: Font family 'Arial' not found.\n",
            "findfont: Font family 'Arial' not found.\n",
            "findfont: Font family 'Arial' not found.\n",
            "findfont: Font family 'Arial' not found.\n",
            "findfont: Font family 'Arial' not found.\n",
            "findfont: Font family 'Arial' not found.\n",
            "findfont: Font family 'Arial' not found.\n",
            "findfont: Font family 'Arial' not found.\n",
            "findfont: Font family 'Arial' not found.\n",
            "findfont: Font family 'Arial' not found.\n",
            "findfont: Font family 'Arial' not found.\n",
            "findfont: Font family 'Arial' not found.\n",
            "findfont: Font family 'Arial' not found.\n",
            "findfont: Font family 'Arial' not found.\n",
            "findfont: Font family 'Arial' not found.\n",
            "findfont: Font family 'Arial' not found.\n",
            "findfont: Font family 'Arial' not found.\n",
            "The figure plotted and saved to ../ex_ridgecrest/output/figure/RC_TM_time_tidal_stress.pdf\n",
            "Start calculating the phase of the tide (Ref)\n"
          ]
        }
      ]
    },
    {
      "cell_type": "markdown",
      "source": [
        "    (5) Analysis | Entire region"
      ],
      "metadata": {
        "id": "8jWtt57sKik4"
      }
    },
    {
      "cell_type": "code",
      "source": [
        "!python ana2_entire_region.py"
      ],
      "metadata": {
        "id": "YyY2jS6KKtpC"
      },
      "execution_count": null,
      "outputs": []
    }
  ]
}